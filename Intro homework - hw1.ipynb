{
 "cells": [
  {
   "cell_type": "code",
   "execution_count": 1,
   "id": "799d1d67-f7ea-4cd0-9f09-0a4a7bb16df7",
   "metadata": {},
   "outputs": [],
   "source": [
    "import numpy as np\n",
    "import pandas as pd"
   ]
  },
  {
   "cell_type": "markdown",
   "id": "030cca90-f000-4002-b324-4f002cbcfeb1",
   "metadata": {},
   "source": [
    "Q1. Pandas version\n",
    "\r\n",
    "What's the version of Pandas that you installed?"
   ]
  },
  {
   "cell_type": "code",
   "execution_count": 5,
   "id": "19931090-dd22-46fa-8d82-4dae435ca38b",
   "metadata": {},
   "outputs": [
    {
     "data": {
      "text/plain": [
       "'2.1.4'"
      ]
     },
     "execution_count": 5,
     "metadata": {},
     "output_type": "execute_result"
    }
   ],
   "source": [
    "pd.__version__"
   ]
  },
  {
   "cell_type": "code",
   "execution_count": 25,
   "id": "00120ed7-4380-4c5b-bf02-63967dda6529",
   "metadata": {},
   "outputs": [],
   "source": [
    "data = pd.read_csv('laptops.csv')"
   ]
  },
  {
   "cell_type": "markdown",
   "id": "bac68231-66a7-4342-a111-ef488caf523a",
   "metadata": {},
   "source": [
    "Q2. Records count\n",
    "\r\n",
    "How many records are in the dataset?"
   ]
  },
  {
   "cell_type": "code",
   "execution_count": 29,
   "id": "be828f52-9cfb-4b8a-85bb-b9f47caa2d79",
   "metadata": {},
   "outputs": [
    {
     "data": {
      "text/plain": [
       "(2160, 12)"
      ]
     },
     "execution_count": 29,
     "metadata": {},
     "output_type": "execute_result"
    }
   ],
   "source": [
    "data.shape"
   ]
  },
  {
   "cell_type": "markdown",
   "id": "d45a5ced-5348-4bba-ab8c-4b4a7392f03d",
   "metadata": {},
   "source": [
    "Answer ; 2160"
   ]
  },
  {
   "cell_type": "markdown",
   "id": "a0702a19-c585-44be-a298-bdc3e3757a72",
   "metadata": {},
   "source": [
    "Q3. Laptop brands\n",
    "\r\n",
    "How many laptop brands are presented in the dataset?"
   ]
  },
  {
   "cell_type": "code",
   "execution_count": 49,
   "id": "9ae94ab3-499a-4f16-b131-4482ed5244f2",
   "metadata": {},
   "outputs": [],
   "source": [
    "a = data.Brand.unique()"
   ]
  },
  {
   "cell_type": "code",
   "execution_count": 51,
   "id": "7fc12025-5777-4e19-a488-84aa7276065e",
   "metadata": {},
   "outputs": [
    {
     "data": {
      "text/plain": [
       "27"
      ]
     },
     "execution_count": 51,
     "metadata": {},
     "output_type": "execute_result"
    }
   ],
   "source": [
    "a.size"
   ]
  },
  {
   "cell_type": "code",
   "execution_count": null,
   "id": "3f524600-1940-4b70-b936-ff6558067d19",
   "metadata": {},
   "outputs": [],
   "source": [
    "Answer : 27 "
   ]
  },
  {
   "cell_type": "markdown",
   "id": "d6e12df8-2616-4bd7-b647-e80274265ee7",
   "metadata": {},
   "source": [
    "Q4. Missing values\n",
    "\r\n",
    "How many columns in the dataset have missing values?"
   ]
  },
  {
   "cell_type": "code",
   "execution_count": 65,
   "id": "759c90cb-befa-490a-acb7-bd6167b211a8",
   "metadata": {},
   "outputs": [
    {
     "data": {
      "text/plain": [
       "Laptop             0\n",
       "Status             0\n",
       "Brand              0\n",
       "Model              0\n",
       "CPU                0\n",
       "RAM                0\n",
       "Storage            0\n",
       "Storage type      42\n",
       "GPU             1371\n",
       "Screen             4\n",
       "Touch              0\n",
       "Final Price        0\n",
       "dtype: int64"
      ]
     },
     "execution_count": 65,
     "metadata": {},
     "output_type": "execute_result"
    }
   ],
   "source": [
    "data.isnull().sum()"
   ]
  },
  {
   "cell_type": "markdown",
   "id": "55b16a99-c9e3-46f9-816d-6d8190906e6c",
   "metadata": {},
   "source": [
    "Answer : 3"
   ]
  },
  {
   "cell_type": "markdown",
   "id": "27c3ea8e-cb96-4daf-bbbd-6571d06417b3",
   "metadata": {},
   "source": [
    "Q5. Maximum final price\n",
    "\r\n",
    "What's the maximum final price of Dell notebooks in the dataset?"
   ]
  },
  {
   "cell_type": "code",
   "execution_count": 93,
   "id": "5ddc293b-05d0-4c51-a964-63f4691b098f",
   "metadata": {},
   "outputs": [],
   "source": [
    "dell = data[data['Brand'] == 'Dell']"
   ]
  },
  {
   "cell_type": "code",
   "execution_count": 97,
   "id": "4542d384-1822-416b-ba99-0896c18c8ac1",
   "metadata": {},
   "outputs": [
    {
     "data": {
      "text/plain": [
       "3936.0"
      ]
     },
     "execution_count": 97,
     "metadata": {},
     "output_type": "execute_result"
    }
   ],
   "source": [
    "dell['Final Price'].max()"
   ]
  },
  {
   "cell_type": "markdown",
   "id": "7eee63d2-2ec4-415d-b261-875a9d87a5e4",
   "metadata": {},
   "source": [
    "Answer : 3936"
   ]
  },
  {
   "cell_type": "markdown",
   "id": "13451181-38fa-40a2-a861-0b7fa088126a",
   "metadata": {},
   "source": [
    "Q6. Median value of Screen\n",
    "\n",
    "Find the median value of Screen column in the dataset.\n",
    "Next, calculate the most frequent value of the same Screen column.\n",
    "Use fillna method to fill the missing values in Screen column with the most frequent value from the previous step.\n",
    "Now, calculate the median value of Screen once again."
   ]
  },
  {
   "cell_type": "markdown",
   "id": "af3b58fe-8cfd-4b77-937c-03c9755c47a7",
   "metadata": {},
   "source": [
    "1.Find the median value of Screen column in the dataset."
   ]
  },
  {
   "cell_type": "code",
   "execution_count": 109,
   "id": "7a36dcff-d150-4241-9bcb-3b4b6d240fe0",
   "metadata": {},
   "outputs": [
    {
     "data": {
      "text/plain": [
       "15.6"
      ]
     },
     "execution_count": 109,
     "metadata": {},
     "output_type": "execute_result"
    }
   ],
   "source": [
    "median_screen = data['Screen'].median()\n",
    "median_screen"
   ]
  },
  {
   "cell_type": "code",
   "execution_count": 113,
   "id": "c01b53e3-68ad-4f27-a980-b5eb40f3d9e0",
   "metadata": {},
   "outputs": [
    {
     "data": {
      "text/plain": [
       "15.6"
      ]
     },
     "execution_count": 113,
     "metadata": {},
     "output_type": "execute_result"
    }
   ],
   "source": [
    "most_frequent = data['Screen'].mode()[0]\n",
    "most_frequent"
   ]
  },
  {
   "cell_type": "code",
   "execution_count": 105,
   "id": "481f6468-538c-4090-a8c9-87d6c8fbb893",
   "metadata": {},
   "outputs": [],
   "source": [
    "data['Screen'].fillna(most_frequent, inplace=True)"
   ]
  },
  {
   "cell_type": "code",
   "execution_count": 111,
   "id": "2826589d-a094-42f0-9281-4f189c07337e",
   "metadata": {},
   "outputs": [
    {
     "data": {
      "text/plain": [
       "15.6"
      ]
     },
     "execution_count": 111,
     "metadata": {},
     "output_type": "execute_result"
    }
   ],
   "source": [
    "new_median = data['Screen'].median()\n",
    "new_median"
   ]
  },
  {
   "cell_type": "markdown",
   "id": "21433eef-d1b5-4a98-bae9-d4e32a60fcf2",
   "metadata": {},
   "source": [
    "Answer : No"
   ]
  },
  {
   "cell_type": "markdown",
   "id": "059e760d-49f9-4f94-884f-2b5835fcb09e",
   "metadata": {},
   "source": [
    "Q7. Sum of weights\r\n",
    "Select all the \"Innjoo\" laptops from the dataset.\r\n",
    "Select only columns RAM, Storage, Screen.\r\n",
    "Get the underlying NumPy array. Let's call it X.\r\n",
    "Compute matrix-matrix multiplication between the transpose of X and X. To get the transpose, use X.T. Let's call the result XTX.\r\n",
    "Compute the inverse of XTX.\r\n",
    "Create an array y with values [1100, 1300, 800, 900, 1000, 1100].\r\n",
    "Multiply the inverse of XTX with the transpose of X, and then multiply the result by y. Call the result w.\r\n",
    "What's the sum of all the elements of the result?"
   ]
  },
  {
   "cell_type": "code",
   "execution_count": 115,
   "id": "3e95a706-e969-4f73-a69b-92a07647508c",
   "metadata": {},
   "outputs": [],
   "source": [
    "innjoo_laptops = data[data['Brand'] == 'Innjoo']"
   ]
  },
  {
   "cell_type": "code",
   "execution_count": 121,
   "id": "be5ca0ce-b9d1-45a9-a149-3f0c644318f2",
   "metadata": {},
   "outputs": [],
   "source": [
    "x = innjoo_laptops[['RAM','Storage','Screen']].to_numpy()"
   ]
  },
  {
   "cell_type": "code",
   "execution_count": 123,
   "id": "1aa6ca23-72d2-4262-9099-addca3e9c394",
   "metadata": {},
   "outputs": [],
   "source": [
    "xTx = np.dot(x.T,x)"
   ]
  },
  {
   "cell_type": "code",
   "execution_count": 125,
   "id": "a463233d-c1cf-473b-b8a9-07bd42eebf11",
   "metadata": {},
   "outputs": [],
   "source": [
    "XTX_inv = np.linalg.inv(xTx)"
   ]
  },
  {
   "cell_type": "code",
   "execution_count": 127,
   "id": "7a000dbe-bb16-4ee2-a725-0f72b05b85e3",
   "metadata": {},
   "outputs": [],
   "source": [
    "y = np.array([1100, 1300, 800, 900, 1000, 1100])"
   ]
  },
  {
   "cell_type": "code",
   "execution_count": 131,
   "id": "9cb02175-9874-40fd-9df5-f7d18e8253fa",
   "metadata": {},
   "outputs": [],
   "source": [
    "w = np.dot(np.dot(XTX_inv,x.T),y)"
   ]
  },
  {
   "cell_type": "code",
   "execution_count": 133,
   "id": "1c68e79a-7244-425c-b334-a2dfa496ec07",
   "metadata": {},
   "outputs": [],
   "source": [
    "sum_w = np.sum(w)"
   ]
  },
  {
   "cell_type": "code",
   "execution_count": 135,
   "id": "0fbb5854-c10f-4532-9f24-6215e0ee2d35",
   "metadata": {},
   "outputs": [
    {
     "name": "stdout",
     "output_type": "stream",
     "text": [
      "the sum of all the elements :91.29988062995588\n"
     ]
    }
   ],
   "source": [
    "print(f\"the sum of all the elements :{sum_w}\")"
   ]
  },
  {
   "cell_type": "markdown",
   "id": "b9e59766-0393-4787-b362-9b6a5ab63bd0",
   "metadata": {},
   "source": [
    "Answer : 91.30"
   ]
  }
 ],
 "metadata": {
  "kernelspec": {
   "display_name": "Python 3 (ipykernel)",
   "language": "python",
   "name": "python3"
  },
  "language_info": {
   "codemirror_mode": {
    "name": "ipython",
    "version": 3
   },
   "file_extension": ".py",
   "mimetype": "text/x-python",
   "name": "python",
   "nbconvert_exporter": "python",
   "pygments_lexer": "ipython3",
   "version": "3.11.7"
  }
 },
 "nbformat": 4,
 "nbformat_minor": 5
}
